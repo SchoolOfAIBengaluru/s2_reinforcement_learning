{
 "cells": [
  {
   "cell_type": "markdown",
   "metadata": {},
   "source": [
    "# Markovian Game of Thorns"
   ]
  },
  {
   "cell_type": "markdown",
   "metadata": {},
   "source": [
    "![GOT Display](gotdisplay.jpg)"
   ]
  },
  {
   "cell_type": "code",
   "execution_count": 1,
   "metadata": {},
   "outputs": [
    {
     "name": "stdout",
     "output_type": "stream",
     "text": [
      "State Value  {'whiteharbor': 0.013400000000000023, 'alive-terminal': 1, 'dragonstone': 0.4620500000000001, 'dead-terminal': -1, 'winterfell': 0.7100000000000001}\n",
      "Action Value {'from_dragonstone': {'land': -0.15049999999999997, 'sea': -0.8587940000000001, 'dragon': 0.4620500000000001}, 'from_whiteharbor': {'land': 0.013400000000000023}, 'from_winterfell': {'land': 0.7100000000000001}}\n",
      "Learned Policy {'from_dragonstone': 'dragon', 'from_whiteharbor': 'land', 'from_winterfell': 'land'}\n"
     ]
    }
   ],
   "source": [
    "# Markov Decision Process Example\n",
    "import numpy as np\n",
    "import copy\n",
    "import pprint\n",
    "\n",
    "V ={\"dragonstone\": 0,\"whiteharbor\":0, \"winterfell\":0,\"alive-terminal\":1,\"dead-terminal\":-1} # States\n",
    "\n",
    "R ={\"from_dragonstone\":{\"land\":-0.02,\"sea\":-0.05,\"dragon\":-0.1},\\\n",
    "    \"from_whiteharbor\":{\"land\":-0.01},\\\n",
    "   \"from_winterfell\":{\"land\":-0.01},\\\n",
    "   }\n",
    "\n",
    "Q = copy.copy(R)\n",
    "\n",
    "P ={\"from_dragonstone\":{\"land\":{\"to_winterfell\":0.5,\"to_dead-terminal\":0.5},\\\n",
    "                         \"sea\":{\"to_whiteharbor\":0.1,\"to_dead-terminal\":0.9},\\\n",
    "                         \"dragon\":{\"to_winterfell\":0.95,\"to_dead-terminal\":0.05}},\\\n",
    "    \"from_whiteharbor\":{\"land\":{\"to_winterfell\":0.6,\"to_dead-terminal\":0.4}},\\\n",
    "   \"from_winterfell\":{\"land\":{\"to_alive-terminal\":0.9,\"to_dead-terminal\":0.1}},\\\n",
    "   }\n",
    "\n",
    "gamma = 0.9\n",
    "\n",
    "Policy = {\"from_dragonstone\":\"land\",\"from_whiteharbor\":\"land\",\"from_winterfell\":\"land\"}\n",
    "\n",
    "# Solution by Value Iteration\n",
    "for i in range(10):\n",
    "    for from_location in P.keys():\n",
    "        V[from_location[5:]] = max(Q[from_location].values())\n",
    "        Q[from_location]=copy.copy(R[from_location]) # Initialize with Immediate Reward\n",
    "        #Action Value Update\n",
    "        for action in P[from_location].keys():\n",
    "            for to_location in P[from_location][action].keys():\n",
    "                Q[from_location][action] = Q[from_location][action] + \\\n",
    "                gamma*P[from_location][action][to_location]*V[to_location[3:]]\n",
    "\n",
    "        Policy[from_location]=max(Q[from_location],key=Q[from_location].get)\n",
    "\n",
    "\n",
    "print ('State Value ',V)\n",
    "print ('Action Value',Q)\n",
    "print ('Learned Policy',Policy)"
   ]
  },
  {
   "cell_type": "markdown",
   "metadata": {},
   "source": [
    "## State Values"
   ]
  },
  {
   "cell_type": "code",
   "execution_count": 4,
   "metadata": {},
   "outputs": [
    {
     "name": "stdout",
     "output_type": "stream",
     "text": [
      "{'alive-terminal': 1,\n",
      " 'dead-terminal': -1,\n",
      " 'dragonstone': 0.4620500000000001,\n",
      " 'whiteharbor': 0.013400000000000023,\n",
      " 'winterfell': 0.7100000000000001}\n"
     ]
    }
   ],
   "source": [
    "pprint.pprint(V)"
   ]
  },
  {
   "cell_type": "markdown",
   "metadata": {},
   "source": [
    "## Action Values"
   ]
  },
  {
   "cell_type": "code",
   "execution_count": 5,
   "metadata": {},
   "outputs": [
    {
     "name": "stdout",
     "output_type": "stream",
     "text": [
      "{'from_dragonstone': {'dragon': 0.4620500000000001,\n",
      "                      'land': -0.15049999999999997,\n",
      "                      'sea': -0.8587940000000001},\n",
      " 'from_whiteharbor': {'land': 0.013400000000000023},\n",
      " 'from_winterfell': {'land': 0.7100000000000001}}\n"
     ]
    }
   ],
   "source": [
    "pprint.pprint(Q)"
   ]
  },
  {
   "cell_type": "markdown",
   "metadata": {},
   "source": [
    "# Learned Policy"
   ]
  },
  {
   "cell_type": "code",
   "execution_count": 7,
   "metadata": {},
   "outputs": [
    {
     "name": "stdout",
     "output_type": "stream",
     "text": [
      "{'from_dragonstone': 'dragon',\n",
      " 'from_whiteharbor': 'land',\n",
      " 'from_winterfell': 'land'}\n"
     ]
    }
   ],
   "source": [
    "pprint.pprint(Policy)"
   ]
  },
  {
   "cell_type": "markdown",
   "metadata": {},
   "source": [
    "# Summary Video"
   ]
  },
  {
   "cell_type": "code",
   "execution_count": 9,
   "metadata": {},
   "outputs": [
    {
     "data": {
      "text/html": [
       "<iframe width=\"560\" height=\"315\" src=\"https://www.youtube.com/embed/Kllu_rlyUn8?rel=0&amp;controls=0&amp;showinfo=0\" frameborder=\"0\" allowfullscreen></iframe>"
      ],
      "text/plain": [
       "<IPython.core.display.HTML object>"
      ]
     },
     "execution_count": 9,
     "metadata": {},
     "output_type": "execute_result"
    }
   ],
   "source": [
    "from IPython.display import HTML\n",
    "\n",
    "# Youtube\n",
    "HTML('<iframe width=\"560\" height=\"315\" src=\"https://www.youtube.com/embed/Kllu_rlyUn8?rel=0&amp;controls=0&amp;showinfo=0\" frameborder=\"0\" allowfullscreen></iframe>')\n"
   ]
  },
  {
   "cell_type": "code",
   "execution_count": null,
   "metadata": {},
   "outputs": [],
   "source": []
  }
 ],
 "metadata": {
  "kernelspec": {
   "display_name": "Python 3",
   "language": "python",
   "name": "python3"
  },
  "language_info": {
   "codemirror_mode": {
    "name": "ipython",
    "version": 3
   },
   "file_extension": ".py",
   "mimetype": "text/x-python",
   "name": "python",
   "nbconvert_exporter": "python",
   "pygments_lexer": "ipython3",
   "version": "3.5.4"
  }
 },
 "nbformat": 4,
 "nbformat_minor": 2
}
