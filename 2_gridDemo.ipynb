{
 "cells": [
  {
   "cell_type": "code",
   "execution_count": 2,
   "metadata": {},
   "outputs": [],
   "source": [
    "from gridEnv import Grid;\n",
    "import numpy as np;"
   ]
  },
  {
   "cell_type": "code",
   "execution_count": 5,
   "metadata": {},
   "outputs": [
    {
     "name": "stdout",
     "output_type": "stream",
     "text": [
      "|. . . . . .|\n",
      "|. . . . . .|\n",
      "|. . . . . .|\n",
      "|C . . . . T|\n",
      "(True, -1)\n"
     ]
    }
   ],
   "source": [
    "from IPython.display import clear_output\n",
    "from time import sleep;\n",
    "g = Grid(length=4,width=6,start=(0,0),terminals=[(3,5)]);\n",
    "for i in range(4):\n",
    "    g.display()\n",
    "    print (g.step(3))\n",
    "    sleep(1);\n",
    "    clear_output(wait=True)\n"
   ]
  },
  {
   "cell_type": "markdown",
   "metadata": {},
   "source": [
    "# Single Episode"
   ]
  },
  {
   "cell_type": "code",
   "execution_count": 6,
   "metadata": {},
   "outputs": [
    {
     "name": "stdout",
     "output_type": "stream",
     "text": [
      "|C . . . . .|\n",
      "|. . . . . .|\n",
      "|. . . . . .|\n",
      "|. . . . . T|\n",
      "Loop Ended\n"
     ]
    }
   ],
   "source": [
    "hasEnded = False;\n",
    "g.reset()\n",
    "while(hasEnded == False):\n",
    "    g.display()\n",
    "    print (g.step(0,update=False),g.step(1,update=False),g.step(2,update=False),g.step(3,update=False))\n",
    "    hasEnded,reward = g.step(np.random.randint(0,4))\n",
    "    sleep(0.2);\n",
    "    clear_output(wait=True)\n",
    "g.display()\n",
    "print ('Loop Ended')\n"
   ]
  },
  {
   "cell_type": "markdown",
   "metadata": {},
   "source": [
    "# SARSA Update"
   ]
  },
  {
   "cell_type": "code",
   "execution_count": 8,
   "metadata": {},
   "outputs": [
    {
     "name": "stdout",
     "output_type": "stream",
     "text": [
      "|. . . . . .|\n",
      "|. . . . . .|\n",
      "|. . . . . .|\n",
      "|C . . . . T|\n",
      "|→ → ↓ → ↓ ←|\n",
      "|↑ → → ↓ ↓ ↓|\n",
      "|→ → → ↓ ↓ ↓|\n",
      "|→ → → → → ←|\n"
     ]
    }
   ],
   "source": [
    "gamma = 0.8;\n",
    "alpha = 0.3;\n",
    "for i in range(1000):\n",
    "    g.display()\n",
    "    g.display_policy()\n",
    "    \n",
    "    #Getting Current Action\n",
    "    s = g.get_state()\n",
    "    q_s = g.get_q_value(s);\n",
    "    best_a = np.argmax(q_s)\n",
    "    a = g.greedy_sample(best_a)\n",
    "    \n",
    "    hasEnded,r = g.step(a) # Moving a step ahead\n",
    "    \n",
    "    #Getting next action\n",
    "    snext = g.get_state();\n",
    "    qnext = g.get_q_value(snext)\n",
    "    best_anext = np.argmax(qnext);\n",
    "    anext = g.greedy_sample(best_anext)\n",
    "    \n",
    "    #SARSA UPDATE\n",
    "    q_s[a] = alpha*q_s[a] + (1-alpha)*(r+gamma*qnext[best_anext])\n",
    "    g.set_q_value(s,q_s)\n",
    "\n",
    "    sleep(0.05);\n",
    "    clear_output(wait=True)\n",
    "    "
   ]
  },
  {
   "cell_type": "markdown",
   "metadata": {},
   "source": [
    "# Monte Carlo REINFORCE"
   ]
  },
  {
   "cell_type": "code",
   "execution_count": 9,
   "metadata": {},
   "outputs": [
    {
     "name": "stdout",
     "output_type": "stream",
     "text": [
      "|C . . . . .|\n",
      "|. . . . . .|\n",
      "|. . . . . .|\n",
      "|. . . . . T|\n",
      "|← ← ← → ← ←|\n",
      "|← → → ↓ ↓ ↓|\n",
      "|→ → → ↓ ↓ ↓|\n",
      "|← → → → → ←|\n"
     ]
    }
   ],
   "source": [
    "gamma = 0.7;\n",
    "alpha = 0.3;\n",
    "g.qvalue=g.qvalue*0.01\n",
    "has_ended = False\n",
    "for i in range(100):\n",
    "    sar_pairs=[];\n",
    "    while(has_ended == False):\n",
    "        g.display()\n",
    "        g.display_policy()\n",
    "        #Getting Current Action\n",
    "        s = g.get_state()\n",
    "        q_s = g.get_q_value(s);\n",
    "        best_a = np.argmax(q_s)\n",
    "        a = g.greedy_sample(best_a,epsilon=0.7)\n",
    "        \n",
    "        has_ended,r = g.step(a) # Moving a step ahead\n",
    "        sar_pairs.append({\"s\":s,\"a\":a,\"r\":r});\n",
    "        sleep(0.1);\n",
    "        clear_output(wait=True)\n",
    "    has_ended=False;\n",
    "    discounted_r=0;\n",
    "    sar_pairs.reverse() # Reversing the pairs\n",
    "    for i,sar in enumerate(sar_pairs):\n",
    "        if i == 0 :\n",
    "            discounted_r = sar[\"r\"]\n",
    "        else:\n",
    "            discounted_r = sar[\"r\"]+gamma*discounted_r\n",
    "            q_s = g.get_q_value(sar[\"s\"]);\n",
    "            a = sar[\"a\"]\n",
    "            q_s[a] = alpha*q_s[a] + (1-alpha)*(discounted_r)\n",
    "            g.set_q_value(s,q_s)\n",
    "    "
   ]
  },
  {
   "cell_type": "code",
   "execution_count": null,
   "metadata": {},
   "outputs": [],
   "source": []
  }
 ],
 "metadata": {
  "kernelspec": {
   "display_name": "Python 3",
   "language": "python",
   "name": "python3"
  },
  "language_info": {
   "codemirror_mode": {
    "name": "ipython",
    "version": 3
   },
   "file_extension": ".py",
   "mimetype": "text/x-python",
   "name": "python",
   "nbconvert_exporter": "python",
   "pygments_lexer": "ipython3",
   "version": "3.5.4"
  }
 },
 "nbformat": 4,
 "nbformat_minor": 2
}
