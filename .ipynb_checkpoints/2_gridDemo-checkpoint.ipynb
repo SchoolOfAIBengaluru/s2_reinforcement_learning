{
 "cells": [
  {
   "cell_type": "code",
   "execution_count": 2,
   "metadata": {},
   "outputs": [],
   "source": [
    "from gridEnv import Grid;\n",
    "import numpy as np;"
   ]
  },
  {
   "cell_type": "code",
   "execution_count": 3,
   "metadata": {},
   "outputs": [
    {
     "name": "stdout",
     "output_type": "stream",
     "text": [
      "|. . . . . .|\n",
      "|. . . . . .|\n",
      "|. . . . . .|\n",
      "|C . . . . T|\n",
      "(True, -1)\n"
     ]
    }
   ],
   "source": [
    "from IPython.display import clear_output\n",
    "from time import sleep;\n",
    "g = Grid(length=4,width=6,start=(0,0),terminals=[(3,5)]);\n",
    "for i in range(4):\n",
    "    g.display()\n",
    "    print (g.step(3))\n",
    "    sleep(1);\n",
    "    clear_output(wait=True)\n"
   ]
  },
  {
   "cell_type": "markdown",
   "metadata": {},
   "source": [
    "# Single Episode"
   ]
  },
  {
   "cell_type": "code",
   "execution_count": 1,
   "metadata": {},
   "outputs": [
    {
     "ename": "NameError",
     "evalue": "name 'g' is not defined",
     "output_type": "error",
     "traceback": [
      "\u001b[1;31m---------------------------------------------------------------------------\u001b[0m",
      "\u001b[1;31mNameError\u001b[0m                                 Traceback (most recent call last)",
      "\u001b[1;32m<ipython-input-1-7ba0ebb769de>\u001b[0m in \u001b[0;36m<module>\u001b[1;34m()\u001b[0m\n\u001b[0;32m      1\u001b[0m \u001b[0mhasEnded\u001b[0m \u001b[1;33m=\u001b[0m \u001b[1;32mFalse\u001b[0m\u001b[1;33m;\u001b[0m\u001b[1;33m\u001b[0m\u001b[0m\n\u001b[1;32m----> 2\u001b[1;33m \u001b[0mg\u001b[0m\u001b[1;33m.\u001b[0m\u001b[0mreset\u001b[0m\u001b[1;33m(\u001b[0m\u001b[1;33m)\u001b[0m\u001b[1;33m\u001b[0m\u001b[0m\n\u001b[0m\u001b[0;32m      3\u001b[0m \u001b[1;32mwhile\u001b[0m\u001b[1;33m(\u001b[0m\u001b[0mhasEnded\u001b[0m \u001b[1;33m==\u001b[0m \u001b[1;32mFalse\u001b[0m\u001b[1;33m)\u001b[0m\u001b[1;33m:\u001b[0m\u001b[1;33m\u001b[0m\u001b[0m\n\u001b[0;32m      4\u001b[0m     \u001b[0mg\u001b[0m\u001b[1;33m.\u001b[0m\u001b[0mdisplay\u001b[0m\u001b[1;33m(\u001b[0m\u001b[1;33m)\u001b[0m\u001b[1;33m\u001b[0m\u001b[0m\n\u001b[0;32m      5\u001b[0m     \u001b[0mprint\u001b[0m \u001b[1;33m(\u001b[0m\u001b[0mg\u001b[0m\u001b[1;33m.\u001b[0m\u001b[0mstep\u001b[0m\u001b[1;33m(\u001b[0m\u001b[1;36m0\u001b[0m\u001b[1;33m,\u001b[0m\u001b[0mupdate\u001b[0m\u001b[1;33m=\u001b[0m\u001b[1;32mFalse\u001b[0m\u001b[1;33m)\u001b[0m\u001b[1;33m,\u001b[0m\u001b[0mg\u001b[0m\u001b[1;33m.\u001b[0m\u001b[0mstep\u001b[0m\u001b[1;33m(\u001b[0m\u001b[1;36m1\u001b[0m\u001b[1;33m,\u001b[0m\u001b[0mupdate\u001b[0m\u001b[1;33m=\u001b[0m\u001b[1;32mFalse\u001b[0m\u001b[1;33m)\u001b[0m\u001b[1;33m,\u001b[0m\u001b[0mg\u001b[0m\u001b[1;33m.\u001b[0m\u001b[0mstep\u001b[0m\u001b[1;33m(\u001b[0m\u001b[1;36m2\u001b[0m\u001b[1;33m,\u001b[0m\u001b[0mupdate\u001b[0m\u001b[1;33m=\u001b[0m\u001b[1;32mFalse\u001b[0m\u001b[1;33m)\u001b[0m\u001b[1;33m,\u001b[0m\u001b[0mg\u001b[0m\u001b[1;33m.\u001b[0m\u001b[0mstep\u001b[0m\u001b[1;33m(\u001b[0m\u001b[1;36m3\u001b[0m\u001b[1;33m,\u001b[0m\u001b[0mupdate\u001b[0m\u001b[1;33m=\u001b[0m\u001b[1;32mFalse\u001b[0m\u001b[1;33m)\u001b[0m\u001b[1;33m)\u001b[0m\u001b[1;33m\u001b[0m\u001b[0m\n",
      "\u001b[1;31mNameError\u001b[0m: name 'g' is not defined"
     ]
    }
   ],
   "source": [
    "hasEnded = False;\n",
    "g.reset()\n",
    "while(hasEnded == False):\n",
    "    g.display()\n",
    "    print (g.step(0,update=False),g.step(1,update=False),g.step(2,update=False),g.step(3,update=False))\n",
    "    hasEnded,reward = g.step(g.getbestaction(),epsilon=0.7)\n",
    "    sleep(0.1);\n",
    "    clear_output(wait=True)\n",
    "g.display()\n",
    "print ('Loop Ended')\n"
   ]
  },
  {
   "cell_type": "markdown",
   "metadata": {},
   "source": [
    "# Value Iteration"
   ]
  },
  {
   "cell_type": "code",
   "execution_count": 6,
   "metadata": {},
   "outputs": [
    {
     "name": "stdout",
     "output_type": "stream",
     "text": [
      "|. . . . . .|\n",
      "|. . . . . .|\n",
      "|. . . . . C|\n",
      "|. . . . . T|\n",
      "[[ 0.21  0.26  0.33  0.41  0.51  0.64]\n",
      " [ 0.26  0.33  0.41  0.51  0.64  0.8 ]\n",
      " [ 0.    0.    0.51  0.64  0.8   1.  ]\n",
      " [ 0.   -0.09 -0.03  0.8   1.    0.  ]]\n",
      "|→ → → → → ↓|\n",
      "|→ → → → → ↓|\n",
      "|→ ↑ → → → ↓|\n",
      "|↑ → ↑ → → ↓|\n"
     ]
    }
   ],
   "source": [
    "gamma =0.8;\n",
    "for i in range(1000):\n",
    "    g.display()\n",
    "    print (g.value);\n",
    "    rary=[]\n",
    "    for a in range(4):\n",
    "        hasEnded,reward,nextpos = g.step(a,epsilon=1,update=False)\n",
    "        vnext = g.value[nextpos[0],nextpos[1]]\n",
    "        rary.append(reward+gamma*vnext)\n",
    "    bestaction,bestdiscreward = np.argmax(rary),np.max(rary)\n",
    "    curpos=list(g.curpos)\n",
    "    g.step(g.policy[g.curpos[0],g.curpos[1]],epsilon=0.9);\n",
    "    g.policy[curpos[0],curpos[1]]=bestaction;\n",
    "    g.value[curpos[0],curpos[1]] = bestdiscreward;\n",
    "    g.displayPolicy()\n",
    "    sleep(0.1);\n",
    "    clear_output(wait=True)\n",
    "    \n",
    "    \n",
    "    "
   ]
  },
  {
   "cell_type": "code",
   "execution_count": 4,
   "metadata": {},
   "outputs": [
    {
     "name": "stdout",
     "output_type": "stream",
     "text": [
      "|. . . . . .|\n",
      "|. . . . . .|\n",
      "|. C . . . .|\n",
      "|. . . . . T|\n",
      "|→ ↓ ↓ ↓ → ↓|\n",
      "|→ → → ↓ ↓ ↓|\n",
      "|→ → → → ↓ ↓|\n",
      "|→ → → → → →|\n"
     ]
    }
   ],
   "source": [
    "gamma = 0.8;\n",
    "alpha = 0.3;\n",
    "for i in range(1000):\n",
    "    g.display()\n",
    "    g.display_policy()\n",
    "    \n",
    "    #Getting Current Action\n",
    "    s = g.get_state()\n",
    "    q_s = g.get_q_value(s);\n",
    "    best_a = np.argmax(q_s)\n",
    "    a = g.greedy_sample(best_a)\n",
    "    \n",
    "    hasEnded,r = g.step(a) # Moving a step ahead\n",
    "    \n",
    "    #Getting next action\n",
    "    snext = g.get_state();\n",
    "    qnext = g.get_q_value(snext)\n",
    "    best_anext = np.argmax(qnext);\n",
    "    anext = g.greedy_sample(best_anext)\n",
    "    \n",
    "    #SARSA UPDATE\n",
    "    q_s[a] = alpha*q_s[a] + (1-alpha)*(r+gamma*qnext[best_anext])\n",
    "    g.set_q_value(s,q_s)\n",
    "\n",
    "    sleep(0.1);\n",
    "    clear_output(wait=True)\n",
    "    "
   ]
  },
  {
   "cell_type": "code",
   "execution_count": 8,
   "metadata": {},
   "outputs": [
    {
     "name": "stdout",
     "output_type": "stream",
     "text": [
      "|C . . . . .|\n",
      "|. . . . . .|\n",
      "|. . . . . .|\n",
      "|. . . . . T|\n",
      "|← ↓ ↓ → ↑ ←|\n",
      "|↓ ← → → ↑ ↓|\n",
      "|← ↑ ← ↓ ↑ ↓|\n",
      "|← → → ← ↓ ↑|\n"
     ]
    },
    {
     "ename": "KeyboardInterrupt",
     "evalue": "",
     "output_type": "error",
     "traceback": [
      "\u001b[1;31m---------------------------------------------------------------------------\u001b[0m",
      "\u001b[1;31mKeyboardInterrupt\u001b[0m                         Traceback (most recent call last)",
      "\u001b[1;32m<ipython-input-8-d13889ebf090>\u001b[0m in \u001b[0;36m<module>\u001b[1;34m()\u001b[0m\n\u001b[0;32m     16\u001b[0m         \u001b[0mhas_ended\u001b[0m\u001b[1;33m,\u001b[0m\u001b[0mr\u001b[0m \u001b[1;33m=\u001b[0m \u001b[0mg\u001b[0m\u001b[1;33m.\u001b[0m\u001b[0mstep\u001b[0m\u001b[1;33m(\u001b[0m\u001b[0ma\u001b[0m\u001b[1;33m)\u001b[0m \u001b[1;31m# Moving a step ahead\u001b[0m\u001b[1;33m\u001b[0m\u001b[0m\n\u001b[0;32m     17\u001b[0m         \u001b[0msar_pairs\u001b[0m\u001b[1;33m.\u001b[0m\u001b[0mappend\u001b[0m\u001b[1;33m(\u001b[0m\u001b[1;33m{\u001b[0m\u001b[1;34m\"s\"\u001b[0m\u001b[1;33m:\u001b[0m\u001b[0ms\u001b[0m\u001b[1;33m,\u001b[0m\u001b[1;34m\"a\"\u001b[0m\u001b[1;33m:\u001b[0m\u001b[0ma\u001b[0m\u001b[1;33m,\u001b[0m\u001b[1;34m\"r\"\u001b[0m\u001b[1;33m:\u001b[0m\u001b[0mr\u001b[0m\u001b[1;33m}\u001b[0m\u001b[1;33m)\u001b[0m\u001b[1;33m;\u001b[0m\u001b[1;33m\u001b[0m\u001b[0m\n\u001b[1;32m---> 18\u001b[1;33m         \u001b[0msleep\u001b[0m\u001b[1;33m(\u001b[0m\u001b[1;36m0.1\u001b[0m\u001b[1;33m)\u001b[0m\u001b[1;33m;\u001b[0m\u001b[1;33m\u001b[0m\u001b[0m\n\u001b[0m\u001b[0;32m     19\u001b[0m         \u001b[0mclear_output\u001b[0m\u001b[1;33m(\u001b[0m\u001b[0mwait\u001b[0m\u001b[1;33m=\u001b[0m\u001b[1;32mTrue\u001b[0m\u001b[1;33m)\u001b[0m\u001b[1;33m\u001b[0m\u001b[0m\n\u001b[0;32m     20\u001b[0m     \u001b[0mhas_ended\u001b[0m\u001b[1;33m=\u001b[0m\u001b[1;32mFalse\u001b[0m\u001b[1;33m;\u001b[0m\u001b[1;33m\u001b[0m\u001b[0m\n",
      "\u001b[1;31mKeyboardInterrupt\u001b[0m: "
     ]
    }
   ],
   "source": [
    "gamma = 0.7;\n",
    "alpha = 0.3;\n",
    "g.qvalue=g.qvalue*0.01\n",
    "has_ended = False\n",
    "for i in range(100):\n",
    "    sar_pairs=[];\n",
    "    while(has_ended == False):\n",
    "        g.display()\n",
    "        g.display_policy()\n",
    "        #Getting Current Action\n",
    "        s = g.get_state()\n",
    "        q_s = g.get_q_value(s);\n",
    "        best_a = np.argmax(q_s)\n",
    "        a = g.greedy_sample(best_a,epsilon=0.7)\n",
    "        \n",
    "        has_ended,r = g.step(a) # Moving a step ahead\n",
    "        sar_pairs.append({\"s\":s,\"a\":a,\"r\":r});\n",
    "        sleep(0.1);\n",
    "        clear_output(wait=True)\n",
    "    has_ended=False;\n",
    "    discounted_r=0;\n",
    "    sar_pairs.reverse() # Reversing the pairs\n",
    "    for i,sar in enumerate(sar_pairs):\n",
    "        if i == 0 :\n",
    "            discounted_r = sar[\"r\"]\n",
    "        else:\n",
    "            discounted_r = sar[\"r\"]+gamma*discounted_r\n",
    "            q_s = g.get_q_value(sar[\"s\"]);\n",
    "            a = sar[\"a\"]\n",
    "            q_s[a] = alpha*q_s[a] + (1-alpha)*(discounted_r)\n",
    "            g.set_q_value(s,q_s)\n",
    "    "
   ]
  },
  {
   "cell_type": "code",
   "execution_count": null,
   "metadata": {},
   "outputs": [],
   "source": []
  }
 ],
 "metadata": {
  "kernelspec": {
   "display_name": "Python 3",
   "language": "python",
   "name": "python3"
  },
  "language_info": {
   "codemirror_mode": {
    "name": "ipython",
    "version": 3
   },
   "file_extension": ".py",
   "mimetype": "text/x-python",
   "name": "python",
   "nbconvert_exporter": "python",
   "pygments_lexer": "ipython3",
   "version": "3.5.4"
  }
 },
 "nbformat": 4,
 "nbformat_minor": 2
}
